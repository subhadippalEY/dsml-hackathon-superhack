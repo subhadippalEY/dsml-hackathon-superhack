{
 "cells": [
  {
   "cell_type": "code",
   "execution_count": 1,
   "id": "a330ee42",
   "metadata": {},
   "outputs": [],
   "source": [
    "# Importing relevant packages\n",
    "\n",
    "import pandas as pd\n",
    "import numpy as np\n",
    "from sklearn.model_selection import train_test_split\n",
    "from sklearn.preprocessing import StandardScaler, OneHotEncoder\n",
    "from sklearn.compose import ColumnTransformer\n",
    "from sklearn.pipeline import Pipeline\n",
    "from sklearn.impute import SimpleImputer\n",
    "from sklearn.base import BaseEstimator, TransformerMixin\n",
    "from sklearn.preprocessing import FunctionTransformer\n",
    "from sklearn.ensemble import RandomForestClassifier\n",
    "import matplotlib.pyplot as plt"
   ]
  },
  {
   "cell_type": "code",
   "execution_count": 2,
   "id": "bb8b618c",
   "metadata": {},
   "outputs": [],
   "source": [
    "# Reading and spltting the data into test and train\n",
    "\n",
    "df = pd.read_csv(\"train_data.csv\")\n",
    "\n",
    "# Defining the X and y \n",
    "X = df.drop(['id','defects'], axis =1)\n",
    "y = df['defects']\n",
    "\n",
    "# Splitting the data into test and train\n",
    "X_train, X_test, y_train, y_test = train_test_split(X, y, test_size = 0.15, random_state = 42)"
   ]
  },
  {
   "cell_type": "code",
   "execution_count": 3,
   "id": "5ea6de97",
   "metadata": {},
   "outputs": [],
   "source": [
    "# Function to handle Infinite values\n",
    "\n",
    "class HandleInf(BaseEstimator, TransformerMixin):\n",
    "    def __init__(self, value=np.nan):\n",
    "        self.value = value\n",
    "\n",
    "    def fit(self, X, y=None):\n",
    "        return self\n",
    "\n",
    "    def transform(self, X, y=None):\n",
    "        X = pd.DataFrame(X).replace([np.inf, -np.inf], self.value)\n",
    "        return X"
   ]
  },
  {
   "cell_type": "code",
   "execution_count": 4,
   "id": "978836b2",
   "metadata": {},
   "outputs": [],
   "source": [
    "# Categorizing the columns in X\n",
    "\n",
    "numerical_features = X_train.select_dtypes(include=['int64','float64']).columns\n",
    "categorical_features = X_train.select_dtypes(include=['object','bool']).columns"
   ]
  },
  {
   "cell_type": "code",
   "execution_count": 5,
   "id": "6ea2b7cf",
   "metadata": {},
   "outputs": [],
   "source": [
    "# Preprocessing pipleine\n",
    "\n",
    "numerical_transformer = Pipeline(steps=[\n",
    "    ('handle_inf', HandleInf()),\n",
    "    ('imputer', SimpleImputer(strategy = 'mean')),\n",
    "    ('scaler', StandardScaler())\n",
    "])\n",
    "\n",
    "categorical_transformer = Pipeline(steps=[\n",
    "    ('imputer', SimpleImputer(strategy='most_frequent')),\n",
    "    ('to_string', FunctionTransformer(lambda x: x.astype(str), validate=False)),\n",
    "    ('onehot', OneHotEncoder(handle_unknown='ignore'))\n",
    "])\n",
    "\n",
    "preprocessor = ColumnTransformer(\n",
    "    transformers=[\n",
    "        ('num', numerical_transformer, numerical_features),\n",
    "        ('cat', categorical_transformer, categorical_features)\n",
    "    ]\n",
    ")"
   ]
  },
  {
   "cell_type": "markdown",
   "id": "c720a431",
   "metadata": {},
   "source": [
    "### Random Forest Classifier"
   ]
  },
  {
   "cell_type": "code",
   "execution_count": 10,
   "id": "64792f0d",
   "metadata": {},
   "outputs": [
    {
     "name": "stdout",
     "output_type": "stream",
     "text": [
      "Accuracy score from Random Forest Classifier is  0.8211229946524065\n"
     ]
    }
   ],
   "source": [
    "# Classification model and metrics\n",
    "\n",
    "rf_classifier = RandomForestClassifier(n_estimators=100, random_state = 42)\n",
    "\n",
    "rf_pipeline = Pipeline(steps=[\n",
    "    ('preprocessor', preprocessor),\n",
    "    ('classifier', rf_classifier)\n",
    "])\n",
    "\n",
    "# # Splitting into test and train data\n",
    "# X_train, X_test, y_train, y_test = train_test_split(X, y, test_size = 0.2, random_state = 42)\n",
    "\n",
    "# Model training\n",
    "rf_pipeline.fit(X_train, y_train)\n",
    "\n",
    "#Predicting the output for test data\n",
    "y_rf_pred = rf_pipeline.predict(X_test)\n",
    "\n",
    "#Evaluating the model\n",
    "from sklearn.metrics import accuracy_score, classification_report\n",
    "\n",
    "rf_accuracy = accuracy_score(y_test,y_rf_pred)\n",
    "print('Accuracy score from Random Forest Classifier is ', rf_accuracy)"
   ]
  },
  {
   "cell_type": "markdown",
   "id": "1e2b21b3",
   "metadata": {},
   "source": [
    "### Logistic Regression Classifier"
   ]
  },
  {
   "cell_type": "code",
   "execution_count": 11,
   "id": "fc0e58fe",
   "metadata": {},
   "outputs": [
    {
     "name": "stdout",
     "output_type": "stream",
     "text": [
      "Accuracy score from Logistic Regression is  0.8211229946524065\n"
     ]
    }
   ],
   "source": [
    "from sklearn.linear_model import LogisticRegression\n",
    "\n",
    "log_classifier = LogisticRegression(max_iter = 10000)\n",
    "\n",
    "log_pipeline = Pipeline(steps=[\n",
    "    ('preprocessor', preprocessor),\n",
    "    ('classifier', rf_classifier)\n",
    "])\n",
    "\n",
    "# # Splitting into test and train data\n",
    "# X_train, X_test, y_train, y_test = train_test_split(X, y, test_size = 0.2, random_state = 42)\n",
    "\n",
    "# Model training\n",
    "log_pipeline.fit(X_train, y_train)\n",
    "\n",
    "#Predicting the output for test data\n",
    "y_log_pred = log_pipeline.predict(X_test)\n",
    "\n",
    "#Evaluating the model\n",
    "from sklearn.metrics import accuracy_score, classification_report\n",
    "\n",
    "log_accuracy = accuracy_score(y_test,y_log_pred)\n",
    "print('Accuracy score from Logistic Regression is ', log_accuracy)"
   ]
  },
  {
   "cell_type": "markdown",
   "id": "102ecd4e",
   "metadata": {},
   "source": [
    "### Predicting the actual test data"
   ]
  },
  {
   "cell_type": "code",
   "execution_count": 18,
   "id": "009b9a46",
   "metadata": {},
   "outputs": [],
   "source": [
    "train_df = pd.read_csv(\"train_data.csv\")\n",
    "test_df = pd.read_csv(\"test_data.csv\")\n",
    "\n",
    "X_train = train_df.drop(['id','defects'], axis =1)\n",
    "y_train = train_df['defects']\n",
    "\n",
    "X_test = test_df.drop(['id'], axis =1)\n",
    "\n",
    "id_df = test_df['id']\n",
    "\n",
    "# Categorizing the train data\n",
    "num_features = X_train.select_dtypes(include=['int64','float64']).columns\n",
    "cat_features = X_train.select_dtypes(include=['object','bool']).columns\n",
    "\n",
    "# Defining the preprocessor\n",
    "act_preprocessor = ColumnTransformer(\n",
    "    transformers=[\n",
    "        ('num', numerical_transformer, num_features),\n",
    "        ('cat', categorical_transformer, cat_features)\n",
    "    ]\n",
    ")\n",
    "\n",
    "# Defining the model pipeline\n",
    "rf_classifier = RandomForestClassifier(n_estimators=100, random_state = 42)\n",
    "\n",
    "rf_pipeline = Pipeline(steps=[\n",
    "    ('act_preprocessor', preprocessor),\n",
    "    ('classifier', rf_classifier)\n",
    "])\n",
    "\n",
    "rf_pipeline.fit(X_train, y_train)\n",
    "\n",
    "# Predicting the target values for test data\n",
    "\n",
    "predicted = rf_pipeline.predict(X_test)\n",
    "\n",
    "result_df = pd.DataFrame({'id': id_df, 'defects': predicted.astype(int)})\n",
    "\n",
    "result_df.to_csv('super_hack_prediction_v1.csv', index = False)"
   ]
  },
  {
   "cell_type": "code",
   "execution_count": 14,
   "id": "adee2f4a",
   "metadata": {},
   "outputs": [
    {
     "name": "stdout",
     "output_type": "stream",
     "text": [
      "<class 'pandas.core.frame.DataFrame'>\n",
      "RangeIndex: 32056 entries, 0 to 32055\n",
      "Data columns (total 36 columns):\n",
      " #   Column                           Non-Null Count  Dtype  \n",
      "---  ------                           --------------  -----  \n",
      " 0   id                               32056 non-null  int64  \n",
      " 1   McCabeLineCount                  32056 non-null  int64  \n",
      " 2   McCabeCyclomaticComplexity       32056 non-null  int64  \n",
      " 3   McCabeEssentialComplexity        32056 non-null  int64  \n",
      " 4   McCabeDesignComplexity           25125 non-null  float64\n",
      " 5   HalsteadTotalOperatorsOperands   32056 non-null  int64  \n",
      " 6   HalsteadVolume                   26140 non-null  float64\n",
      " 7   HalsteadProgramLength            32056 non-null  float64\n",
      " 8   HalsteadDifficulty               28835 non-null  object \n",
      " 9   HalsteadIntelligence             29743 non-null  float64\n",
      " 10  HalsteadEffort                   32056 non-null  float64\n",
      " 11  HalsteadB                        32056 non-null  float64\n",
      " 12  HalsteadTimeEstimator            26085 non-null  float64\n",
      " 13  HalsteadLineCountCode            29428 non-null  float64\n",
      " 14  HalsteadLineCountComment         32056 non-null  int64  \n",
      " 15  HalsteadLineCountBlank           25862 non-null  object \n",
      " 16  HalsteadLineCountCodeAndComment  30029 non-null  float64\n",
      " 17  UniqueOperators                  27596 non-null  object \n",
      " 18  UniqueOperands                   32056 non-null  int64  \n",
      " 19  TotalOperators                   26580 non-null  float64\n",
      " 20  TotalOperands                    32056 non-null  int64  \n",
      " 21  BranchCount                      32056 non-null  int64  \n",
      " 22  CodeDensity                      29638 non-null  float64\n",
      " 23  OperatorToOperandRatio           24537 non-null  object \n",
      " 24  CommentDensity                   21676 non-null  float64\n",
      " 25  ComplexityEfficiency             30491 non-null  object \n",
      " 26  OperandsPerOperator              29592 non-null  float64\n",
      " 27  CodeAndCommentRatio              29621 non-null  float64\n",
      " 28  CodeAge                          26136 non-null  float64\n",
      " 29  CodeLanguage                     32056 non-null  object \n",
      " 30  CodeSizeCategory                 25673 non-null  object \n",
      " 31  CodeType                         27840 non-null  object \n",
      " 32  CodeQuality                      32056 non-null  int64  \n",
      " 33  QualityScore                     32056 non-null  float64\n",
      " 34  IsDeprecated                     29281 non-null  float64\n",
      " 35  TeamSize                         32056 non-null  int64  \n",
      "dtypes: float64(17), int64(11), object(8)\n",
      "memory usage: 8.8+ MB\n"
     ]
    }
   ],
   "source": [
    "test_df.info()"
   ]
  },
  {
   "cell_type": "code",
   "execution_count": null,
   "id": "7d1d1eb1",
   "metadata": {},
   "outputs": [],
   "source": []
  }
 ],
 "metadata": {
  "kernelspec": {
   "display_name": "Python 3 (ipykernel)",
   "language": "python",
   "name": "python3"
  },
  "language_info": {
   "codemirror_mode": {
    "name": "ipython",
    "version": 3
   },
   "file_extension": ".py",
   "mimetype": "text/x-python",
   "name": "python",
   "nbconvert_exporter": "python",
   "pygments_lexer": "ipython3",
   "version": "3.11.8"
  }
 },
 "nbformat": 4,
 "nbformat_minor": 5
}
